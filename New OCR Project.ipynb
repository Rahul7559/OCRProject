{
 "cells": [
  {
   "cell_type": "code",
   "execution_count": 1,
   "id": "5c2ac920",
   "metadata": {},
   "outputs": [
    {
     "name": "stdout",
     "output_type": "stream",
     "text": [
      "Requirement already satisfied: pytesseract in c:\\users\\genius\\my files\\lib\\site-packages (0.3.10)\n",
      "Requirement already satisfied: packaging>=21.3 in c:\\users\\genius\\my files\\lib\\site-packages (from pytesseract) (23.1)\n",
      "Requirement already satisfied: Pillow>=8.0.0 in c:\\users\\genius\\my files\\lib\\site-packages (from pytesseract) (8.4.0)\n",
      "Note: you may need to restart the kernel to use updated packages.\n"
     ]
    }
   ],
   "source": [
    "pip install pytesseract"
   ]
  },
  {
   "cell_type": "code",
   "execution_count": 2,
   "id": "50b0ceee",
   "metadata": {},
   "outputs": [
    {
     "name": "stdout",
     "output_type": "stream",
     "text": [
      "Requirement already satisfied: tesseract in c:\\users\\genius\\my files\\lib\\site-packages (0.1.3)\n",
      "Note: you may need to restart the kernel to use updated packages.\n"
     ]
    }
   ],
   "source": [
    "pip install tesseract"
   ]
  },
  {
   "cell_type": "code",
   "execution_count": 3,
   "id": "2ab2a630",
   "metadata": {},
   "outputs": [
    {
     "name": "stdout",
     "output_type": "stream",
     "text": [
      "Note: you may need to restart the kernel to use updated packages.\n"
     ]
    },
    {
     "name": "stderr",
     "output_type": "stream",
     "text": [
      "WARNING: Retrying (Retry(total=4, connect=None, read=None, redirect=None, status=None)) after connection broken by 'NewConnectionError('<pip._vendor.urllib3.connection.HTTPSConnection object at 0x00000231C81934F0>: Failed to establish a new connection: [Errno 11001] getaddrinfo failed')': /simple/poppler/\n",
      "WARNING: Retrying (Retry(total=3, connect=None, read=None, redirect=None, status=None)) after connection broken by 'NewConnectionError('<pip._vendor.urllib3.connection.HTTPSConnection object at 0x00000231C81935E0>: Failed to establish a new connection: [Errno 11001] getaddrinfo failed')': /simple/poppler/\n",
      "WARNING: Retrying (Retry(total=2, connect=None, read=None, redirect=None, status=None)) after connection broken by 'NewConnectionError('<pip._vendor.urllib3.connection.HTTPSConnection object at 0x00000231C8193190>: Failed to establish a new connection: [Errno 11001] getaddrinfo failed')': /simple/poppler/\n",
      "WARNING: Retrying (Retry(total=1, connect=None, read=None, redirect=None, status=None)) after connection broken by 'NewConnectionError('<pip._vendor.urllib3.connection.HTTPSConnection object at 0x00000231C8193D60>: Failed to establish a new connection: [Errno 11001] getaddrinfo failed')': /simple/poppler/\n",
      "WARNING: Retrying (Retry(total=0, connect=None, read=None, redirect=None, status=None)) after connection broken by 'NewConnectionError('<pip._vendor.urllib3.connection.HTTPSConnection object at 0x00000231C8193F10>: Failed to establish a new connection: [Errno 11001] getaddrinfo failed')': /simple/poppler/\n",
      "ERROR: Could not find a version that satisfies the requirement Poppler (from versions: none)\n",
      "ERROR: No matching distribution found for Poppler\n"
     ]
    }
   ],
   "source": [
    "pip install Poppler"
   ]
  },
  {
   "cell_type": "code",
   "execution_count": 4,
   "id": "bbc90bd8",
   "metadata": {},
   "outputs": [
    {
     "name": "stdout",
     "output_type": "stream",
     "text": [
      "Requirement already satisfied: pdf2image in c:\\users\\genius\\my files\\lib\\site-packages (1.16.3)\n",
      "Requirement already satisfied: pillow in c:\\users\\genius\\my files\\lib\\site-packages (from pdf2image) (8.4.0)\n",
      "Note: you may need to restart the kernel to use updated packages.\n"
     ]
    }
   ],
   "source": [
    "pip install pdf2image"
   ]
  },
  {
   "cell_type": "code",
   "execution_count": 5,
   "id": "3089187f",
   "metadata": {},
   "outputs": [],
   "source": [
    "import os\n",
    "import re\n",
    "import pandas as pd\n",
    "import pdf2image\n",
    "from pdf2image import convert_from_path\n",
    "import pytesseract"
   ]
  },
  {
   "cell_type": "code",
   "execution_count": 6,
   "id": "af7edea5",
   "metadata": {},
   "outputs": [],
   "source": [
    "import glob"
   ]
  },
  {
   "cell_type": "code",
   "execution_count": 7,
   "id": "cf1c36e1",
   "metadata": {},
   "outputs": [
    {
     "name": "stdout",
     "output_type": "stream",
     "text": [
      "[<PIL.PpmImagePlugin.PpmImageFile image mode=RGB size=667x426 at 0x2875EBA82B0>]\n"
     ]
    }
   ],
   "source": [
    "path=r\"C:\\Program Files (x86)\\poppler-23.08.0\\Library\\bin\"\n",
    "file_path=r\"E:\\vs code\\Rahul\\Aadhar card.pdf\"\n",
    "image=convert_from_path(file_path,poppler_path=path)\n",
    "print(image)"
   ]
  },
  {
   "cell_type": "code",
   "execution_count": 8,
   "id": "dc40283e",
   "metadata": {},
   "outputs": [],
   "source": [
    "image[0].save(\"Aadhar_card.PNG\",\"PNG\")"
   ]
  },
  {
   "cell_type": "code",
   "execution_count": 9,
   "id": "8d49042f",
   "metadata": {},
   "outputs": [
    {
     "name": "stdout",
     "output_type": "stream",
     "text": [
      "[<PIL.PpmImagePlugin.PpmImageFile image mode=RGB size=2339x1653 at 0x2875EC45220>]\n"
     ]
    }
   ],
   "source": [
    "path=r\"C:\\Program Files (x86)\\poppler-23.08.0\\Library\\bin\"\n",
    "file_path=r\"E:\\vs code\\Rahul\\pan_card.pdf\"\n",
    "image1 = convert_from_path(file_path,poppler_path=path)\n",
    "print(image1)"
   ]
  },
  {
   "cell_type": "code",
   "execution_count": 10,
   "id": "c14adf35",
   "metadata": {},
   "outputs": [],
   "source": [
    "image1[0].save(\"Pan_card.PNG\",\"PNG\")"
   ]
  },
  {
   "cell_type": "code",
   "execution_count": 11,
   "id": "cb520659",
   "metadata": {},
   "outputs": [
    {
     "data": {
      "text/plain": [
       "'E:\\\\project\\\\Details'"
      ]
     },
     "execution_count": 11,
     "metadata": {},
     "output_type": "execute_result"
    }
   ],
   "source": [
    "file_path=r\"E:\\vs code\\Rahul\\pan_card.pdf\"\n",
    "path=r\"C:\\Program Files (x86)\\poppler-23.08.0\\Library\\bin\"\n",
    "folder_name=\"Details\"\n",
    "currect_working_dir=r\"E:\\project\"\n",
    "pdf_folder_path=os.path.join(currect_working_dir,folder_name)\n",
    "pdf_folder_path"
   ]
  },
  {
   "cell_type": "code",
   "execution_count": 12,
   "id": "bcd52bf2",
   "metadata": {},
   "outputs": [],
   "source": [
    "if not os.path.exists(pdf_folder_path):\n",
    "    os.mkdir(pdf_folder_path)\n",
    "    print(\"New Folder was created\")\n",
    "    \n",
    "    \n",
    "file_name=f\"{pdf_folder_path}\\\\Aadhar_card.PNG\"\n",
    "file_name1=f\"{pdf_folder_path}\\\\Pan_card.PNG\"\n",
    "\n",
    "image[0].save(file_name,\"PNG\")\n",
    "image1[0].save(file_name1,\"PNG\")"
   ]
  },
  {
   "cell_type": "code",
   "execution_count": 22,
   "id": "deb64ebf",
   "metadata": {},
   "outputs": [
    {
     "name": "stdout",
     "output_type": "stream",
     "text": [
      "usa Hay Arey\n",
      "Rahul Santosh Mangale\n",
      "wea artre / DOB : 02/02/1999\n",
      "\n",
      "Ges / Male\n",
      "\n",
      "2376 1988 9152\n",
      "HIM - GAlea Arovara fea\n",
      "INCOME TAX DEPARTMENT 4% GOVT OF INDIA\n",
      "Permanent Account Number Card\n",
      "GVRPM9104D\n",
      "\n",
      "74 iNeane\n",
      "RAHUL SANTOSH MANGALE\n",
      "\n",
      "Serr wet a ators Name\n",
      "wea Wh ara) o—\n",
      "\n",
      "7 -oamziee f Fare | Signature\n",
      "\n",
      "\n"
     ]
    }
   ],
   "source": [
    "path1         = r\"C:\\Users\\Genius\\AppData\\Local\\Programs\\Tesseract-OCR\\tesseract.exe\"\n",
    "file_path1    = r\"E:\\project\\Details\\Aadhar_card.PNG\"\n",
    "file_path2    = r\"E:\\project\\Details\\Pan_card.PNG\"\n",
    "pytesseract.pytesseract.tesseract_cmd = path1\n",
    "Aadhar_text   = pytesseract.image_to_string(file_path1)\n",
    "Pan_text      = pytesseract.image_to_string(file_path2)\n",
    "text2         = Aadhar_text+Pan_text\n",
    "print(text2)"
   ]
  },
  {
   "cell_type": "code",
   "execution_count": 25,
   "id": "99818060",
   "metadata": {},
   "outputs": [
    {
     "name": "stdout",
     "output_type": "stream",
     "text": [
      "usa Hay Arey\n",
      "Rahul Santosh Mangale\n",
      "wea artre / DOB : 02/02/1999\n",
      "Ges / Male\n",
      "2376 1988 9152\n",
      "HIM - GAlea Arovara fea\n",
      "INCOME TAX DEPARTMENT 4% GOVT OF INDIA\n",
      "Permanent Account Number Card\n",
      "GVRPM9104D\n",
      "74 iNeane\n",
      "RAHUL SANTOSH MANGALE\n",
      "Serr wet a ators Name\n",
      "wea Wh ara) o—\n",
      "7 -oamziee f Fare | Signature\n",
      "\n"
     ]
    }
   ],
   "source": [
    "text3=re.sub(\"\\n+\",\"\\n\",text2)\n",
    "print(text3)\n"
   ]
  },
  {
   "cell_type": "code",
   "execution_count": 33,
   "id": "d873b6c3",
   "metadata": {},
   "outputs": [
    {
     "data": {
      "text/plain": [
       "<re.Match object; span=(13, 34), match='Rahul Santosh Mangale'>"
      ]
     },
     "execution_count": 33,
     "metadata": {},
     "output_type": "execute_result"
    }
   ],
   "source": [
    "Aadhar_name1 = re.compile(\"[A-Za-z]{5}\\s[A-Za-z]{7}\\s[A-Za-z]{7}\")\n",
    "Aadhar_name1.search(text3)"
   ]
  },
  {
   "cell_type": "code",
   "execution_count": 34,
   "id": "5267570e",
   "metadata": {},
   "outputs": [
    {
     "data": {
      "text/plain": [
       "<re.Match object; span=(204, 225), match='RAHUL SANTOSH MANGALE'>"
      ]
     },
     "execution_count": 34,
     "metadata": {},
     "output_type": "execute_result"
    }
   ],
   "source": [
    "Pan_name1 = re.compile(\"[A-Z]{5}\\s[A-Z]{7}\\s[A-Z]{7}\")\n",
    "Pan_name1.search(text3)"
   ]
  },
  {
   "cell_type": "code",
   "execution_count": 35,
   "id": "a18a8bde",
   "metadata": {},
   "outputs": [
    {
     "data": {
      "text/plain": [
       "<re.Match object; span=(75, 89), match='2376 1988 9152'>"
      ]
     },
     "execution_count": 35,
     "metadata": {},
     "output_type": "execute_result"
    }
   ],
   "source": [
    "Aadhar_no1 = re.compile(\"\\d{4}\\s\\d{4}\\s\\d{4}\")\n",
    "Aadhar_no1.search(text3)"
   ]
  },
  {
   "cell_type": "code",
   "execution_count": 36,
   "id": "3fdc54de",
   "metadata": {},
   "outputs": [
    {
     "data": {
      "text/plain": [
       "<re.Match object; span=(183, 193), match='GVRPM9104D'>"
      ]
     },
     "execution_count": 36,
     "metadata": {},
     "output_type": "execute_result"
    }
   ],
   "source": [
    "pan_no1 = re.compile(\"[A-Z]{5}\\d{4}[A-Z]{1}\")\n",
    "pan_no1.search(text3)"
   ]
  },
  {
   "cell_type": "code",
   "execution_count": 37,
   "id": "9c613f59",
   "metadata": {},
   "outputs": [
    {
     "data": {
      "text/plain": [
       "<re.Match object; span=(53, 63), match='02/02/1999'>"
      ]
     },
     "execution_count": 37,
     "metadata": {},
     "output_type": "execute_result"
    }
   ],
   "source": [
    "DOB1 = re.compile(\"\\d{2}/\\d{2}/\\d{4}\")\n",
    "DOB1.search(text3)"
   ]
  },
  {
   "cell_type": "code",
   "execution_count": 39,
   "id": "9b12726d",
   "metadata": {},
   "outputs": [
    {
     "data": {
      "text/plain": [
       "('Rahul Santosh Mangale',\n",
       " 'RAHUL SANTOSH MANGALE',\n",
       " '2376 1988 9152',\n",
       " 'GVRPM9104D',\n",
       " '02/02/1999')"
      ]
     },
     "execution_count": 39,
     "metadata": {},
     "output_type": "execute_result"
    }
   ],
   "source": [
    "def get_Aadhar_pan_Details(text):\n",
    "    \n",
    "    Aadhar_name1  = re.compile(\"[A-Za-z]{5}\\s[A-Za-z]{7}\\s[A-Za-z]{7}\")\n",
    "    Pan_name1     = re.compile(\"[A-Z]{5}\\s[A-Z]{7}\\s[A-Z]{7}\")\n",
    "    Aadhar_no1    = re.compile(\"\\d{4}\\s\\d{4}\\s\\d{4}\")\n",
    "    pan_no1       = re.compile(\"[A-Z]{5}\\d{4}[A-Z]{1}\")\n",
    "    DOB1          = re.compile(\"\\d{2}/\\d{2}/\\d{4}\")\n",
    "    \n",
    "    \n",
    "    Aadhar_name   = Aadhar_name1.search(text3).group()\n",
    "    Pan_name      = Pan_name1.search(text3).group()\n",
    "    Aadhar_no     = Aadhar_no1.search(text3).group()\n",
    "    pan_no        = pan_no1.search(text3).group()\n",
    "    DOB           = DOB1.search(text3).group()\n",
    "    \n",
    "    \n",
    "    \n",
    "    return Aadhar_name,Pan_name,Aadhar_no,pan_no,DOB\n",
    "\n",
    "\n",
    "get_Aadhar_pan_Details(text3)"
   ]
  },
  {
   "cell_type": "code",
   "execution_count": 42,
   "id": "d5970f9f",
   "metadata": {},
   "outputs": [],
   "source": [
    "Aadhar_name,Pan_name,Aadhar_no,pan_no,DOB = get_Aadhar_pan_Details(text3)"
   ]
  },
  {
   "cell_type": "code",
   "execution_count": 52,
   "id": "22331afb",
   "metadata": {},
   "outputs": [
    {
     "data": {
      "text/html": [
       "<div>\n",
       "<style scoped>\n",
       "    .dataframe tbody tr th:only-of-type {\n",
       "        vertical-align: middle;\n",
       "    }\n",
       "\n",
       "    .dataframe tbody tr th {\n",
       "        vertical-align: top;\n",
       "    }\n",
       "\n",
       "    .dataframe thead th {\n",
       "        text-align: right;\n",
       "    }\n",
       "</style>\n",
       "<table border=\"1\" class=\"dataframe\">\n",
       "  <thead>\n",
       "    <tr style=\"text-align: right;\">\n",
       "      <th></th>\n",
       "      <th>Aadhar Name</th>\n",
       "      <th>Aadhar no</th>\n",
       "      <th>Pan Name</th>\n",
       "      <th>pan no</th>\n",
       "      <th>DOB</th>\n",
       "    </tr>\n",
       "  </thead>\n",
       "  <tbody>\n",
       "    <tr>\n",
       "      <th>0</th>\n",
       "      <td>Rahul Santosh Mangale</td>\n",
       "      <td>2376 1988 9152</td>\n",
       "      <td>RAHUL SANTOSH MANGALE</td>\n",
       "      <td>GVRPM9104D</td>\n",
       "      <td>02/02/1999</td>\n",
       "    </tr>\n",
       "  </tbody>\n",
       "</table>\n",
       "</div>"
      ],
      "text/plain": [
       "             Aadhar Name       Aadhar no               Pan Name      pan no  \\\n",
       "0  Rahul Santosh Mangale  2376 1988 9152  RAHUL SANTOSH MANGALE  GVRPM9104D   \n",
       "\n",
       "          DOB  \n",
       "0  02/02/1999  "
      ]
     },
     "execution_count": 52,
     "metadata": {},
     "output_type": "execute_result"
    }
   ],
   "source": [
    "dict1  = {\"Aadhar Name\":[Aadhar_name],\"Aadhar no\":[Aadhar_no],\"Pan Name\":[Pan_name],\"pan no\":[pan_no],\"DOB\":[DOB]}\n",
    "df     = pd. DataFrame(dict1)\n",
    "df"
   ]
  },
  {
   "cell_type": "code",
   "execution_count": 54,
   "id": "c0d970fc",
   "metadata": {},
   "outputs": [],
   "source": [
    "df.to_csv(\"Aadhar & Pan Details.csv\",index=0)"
   ]
  },
  {
   "cell_type": "code",
   "execution_count": null,
   "id": "d0880d3c",
   "metadata": {},
   "outputs": [],
   "source": []
  }
 ],
 "metadata": {
  "kernelspec": {
   "display_name": "Python 3 (ipykernel)",
   "language": "python",
   "name": "python3"
  },
  "language_info": {
   "codemirror_mode": {
    "name": "ipython",
    "version": 3
   },
   "file_extension": ".py",
   "mimetype": "text/x-python",
   "name": "python",
   "nbconvert_exporter": "python",
   "pygments_lexer": "ipython3",
   "version": "3.9.7"
  }
 },
 "nbformat": 4,
 "nbformat_minor": 5
}
